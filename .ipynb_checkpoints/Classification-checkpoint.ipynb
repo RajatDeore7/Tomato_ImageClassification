{
 "cells": [
  {
   "cell_type": "code",
   "execution_count": 13,
   "id": "9c117112",
   "metadata": {},
   "outputs": [
    {
     "name": "stdout",
     "output_type": "stream",
     "text": [
      "Collecting patchifyNote: you may need to restart the kernel to use updated packages.\n",
      "\n",
      "  Downloading patchify-0.2.3-py3-none-any.whl (6.6 kB)\n",
      "Requirement already satisfied: numpy<2,>=1 in c:\\users\\rajat\\lib\\site-packages (from patchify) (1.21.4)\n",
      "Installing collected packages: patchify\n",
      "Successfully installed patchify-0.2.3\n"
     ]
    }
   ],
   "source": [
    "pip install patchify"
   ]
  },
  {
   "cell_type": "code",
   "execution_count": 18,
   "id": "fe1f8f1a",
   "metadata": {},
   "outputs": [],
   "source": [
    "# import numpy as np\n",
    "# from matplotlib import pyplot as plt\n",
    "# from patchify import patchify\n",
    "# import cv2\n",
    "\n",
    "# large_image_stack = cv2.imread(\"C:/Users/Rajat/Desktop/Testing/000bf685-b305-408b-91f4-37030f8e62db___GH_HL Leaf 308.1.JPG\")\n",
    "# large_mask_stack = cv2.imread(\"C:/Users/Rajat/Desktop/Testing/000bf685-b305-408b-91f4-37030f8e62db___GH_HL Leaf 308.1.JPG\")\n",
    "\n",
    "# for img in range(large_image_stack.shape[0]):\n",
    "\n",
    "#     large_image = large_image_stack[img]\n",
    "    \n",
    "#     patches_img = patchify(large_image, (256, 256), step=128)  #Step=256 for 256 patches means no overlap\n",
    "    \n",
    "#     for i in range(patches_img.shape[0]):\n",
    "#         for j in range(patches_img.shape[1]):\n",
    "            \n",
    "#             single_patch_img = patches_img[i,j,:,:]\n",
    "#             cv2.imwrite(\"C:/Users/Rajat/Desktop/patches/images\" + 'image_' + str(img) + '_' + str(i)+str(j)+ \".tif\", single_patch_img)\n",
    "            \n",
    "\n",
    "# for msk in range(large_mask_stack.shape[0]):\n",
    "     \n",
    "#     large_mask = large_mask_stack[msk]\n",
    "    \n",
    "#     patches_mask = patchify(large_mask, (256, 256), step=256)  #Step=256 for 256 patches means no overlap\n",
    "    \n",
    "\n",
    "#     for i in range(patches_mask.shape[0]):\n",
    "#         for j in range(patches_mask.shape[1]):\n",
    "            \n",
    "#             single_patch_mask = patches_mask[i,j,:,:]\n",
    "#             cv2.imwrite(\"C:/Users/Rajat/Desktop/patches/masks\" + 'mask_' + str(msk) + '_' + str(i)+str(j)+ \".tif\", single_patch_mask)\n",
    "#             single_patch_mask = single_patch_mask / 255.\n",
    "            "
   ]
  },
  {
   "cell_type": "code",
   "execution_count": 19,
   "id": "fdc2170a",
   "metadata": {},
   "outputs": [
    {
     "name": "stdout",
     "output_type": "stream",
     "text": [
      "Collecting skimage\n",
      "  Downloading skimage-0.0.tar.gz (757 bytes)\n",
      "  Preparing metadata (setup.py): started\n",
      "  Preparing metadata (setup.py): finished with status 'error'\n",
      "Note: you may need to restart the kernel to use updated packages.\n"
     ]
    },
    {
     "name": "stderr",
     "output_type": "stream",
     "text": [
      "  error: subprocess-exited-with-error\n",
      "  \n",
      "  python setup.py egg_info did not run successfully.\n",
      "  exit code: 1\n",
      "  \n",
      "  [3 lines of output]\n",
      "  \n",
      "  *** Please install the `scikit-image` package (instead of `skimage`) ***\n",
      "  \n",
      "  [end of output]\n",
      "  \n",
      "  note: This error originates from a subprocess, and is likely not a problem with pip.\n",
      "error: metadata-generation-failed\n",
      "\n",
      "Encountered error while generating package metadata.\n",
      "\n",
      "See above for output.\n",
      "\n",
      "note: This is an issue with the package mentioned above, not pip.\n",
      "hint: See above for details.\n"
     ]
    }
   ],
   "source": [
    "pip install skimage"
   ]
  },
  {
   "cell_type": "code",
   "execution_count": 21,
   "id": "c2f22d20",
   "metadata": {},
   "outputs": [],
   "source": [
    "# from skimage.util import view_as_windows\n",
    "\n",
    "# # Load the large image and mask\n",
    "# large_image = cv2.imread(\"C:/Users/Rajat/Desktop/Testing/000bf685-b305-408b-91f4-37030f8e62db___GH_HL Leaf 308.1.JPG\")\n",
    "# large_mask = cv2.imread(\"C:/Users/Rajat/Desktop/Testing/000bf685-b305-408b-91f4-37030f8e62db___GH_HL Leaf 308.1.JPG\")\n",
    "\n",
    "# # Define the patch size and step size\n",
    "# patch_size = (256, 256)\n",
    "# step_size = 128\n",
    "\n",
    "# # Extract patches from the large image\n",
    "# patches_image = view_as_windows(large_image, patch_size, step=step_size)\n",
    "\n",
    "# # Extract patches from the large mask\n",
    "# patches_mask = view_as_windows(large_mask, patch_size, step=step_size)\n",
    "\n",
    "# # Loop over all patches\n",
    "# for i in range(patches_image.shape[0]):\n",
    "#     for j in range(patches_image.shape[1]):\n",
    "#         # Get the i,j-th patch from the image\n",
    "#         single_patch_img = patches_image[i,j,:,:,:]\n",
    "#         # Save the patch as a .tif file\n",
    "#         cv2.imwrite(\"C:/Users/Rajat/Desktop/patches/images\" + 'image_' + str(i) + '_' + str(j) + \".tif\", single_patch_img)\n",
    "        \n",
    "#         # Get the i,j-th patch from the mask\n",
    "#         single_patch_mask = patches_mask[i,j,:,:,:]\n",
    "#         # Convert the mask to binary (0 or 1) and save the patch as a .tif file\n",
    "#         single_patch_mask = (single_patch_mask > 0).astype(np.uint8) * 255\n",
    "#         cv2.imwrite(\"C:/Users/Rajat/Desktop/patches/masks\" + 'mask_' + str(i) + '_' + str(j) + \".tif\", single_patch_mask)\n"
   ]
  },
  {
   "cell_type": "code",
   "execution_count": 28,
   "id": "ba7f0d7a",
   "metadata": {},
   "outputs": [],
   "source": [
    "import cv2\n",
    "import numpy as np\n",
    "\n",
    "# Load the large image and mask\n",
    "large_image = cv2.imread(\"C:/Users/Rajat/Desktop/Testing/000bf685-b305-408b-91f4-37030f8e62db___GH_HL Leaf 308.1.JPG\")\n",
    "large_mask = cv2.imread(\"C:/Users/Rajat/Desktop/Testing/000bf685-b305-408b-91f4-37030f8e62db___GH_HL Leaf 308.1.JPG\")\n",
    "\n",
    "# Define the patch size and step size\n",
    "patch_size = (1000, 1000)\n",
    "step_size = 128\n",
    "\n",
    "# Extract patches from the large image\n",
    "patches_image = np.array([large_image[i:i+patch_size[0], j:j+patch_size[1]] \n",
    "                          for i in range(0, large_image.shape[0]-patch_size[0]+1, step_size) \n",
    "                          for j in range(0, large_image.shape[1]-patch_size[1]+1, step_size)])\n",
    "\n",
    "# Extract patches from the large mask\n",
    "patches_mask = np.array([large_mask[i:i+patch_size[0], j:j+patch_size[1]] \n",
    "                         for i in range(0, large_mask.shape[0]-patch_size[0]+1, step_size) \n",
    "                         for j in range(0, large_mask.shape[1]-patch_size[1]+1, step_size)])\n",
    "\n",
    "# Loop over all patches\n",
    "for i in range(patches_image.shape[0]):\n",
    "    for j in range(patches_image.shape[1]):\n",
    "        # Get the i,j-th patch from the image\n",
    "        single_patch_img = patches_image[i,j,:,:]\n",
    "        # Save the patch as a .tif file\n",
    "        cv2.imwrite(\"C:/Users/Rajat/Desktop/patches/images/\" + 'image_' + str(i) + '_' + str(j) + \".tif\", single_patch_img)\n",
    "        \n",
    "        # Get the i,j-th patch from the mask\n",
    "        single_patch_mask = patches_mask[i,j,:,:]\n",
    "        # Convert the mask to binary (0 or 1) and save the patch as a .tif file\n",
    "        single_patch_mask = (single_patch_mask > 0).astype(np.uint8) * 255\n",
    "        cv2.imwrite(\"C:/Users/Rajat/Desktop/patches/masks/\" + 'mask_' + str(i) + '_' + str(j) + \".tif\", single_patch_mask)\n"
   ]
  },
  {
   "cell_type": "code",
   "execution_count": null,
   "id": "fb04b7d3",
   "metadata": {},
   "outputs": [],
   "source": []
  },
  {
   "cell_type": "code",
   "execution_count": null,
   "id": "3049d786",
   "metadata": {},
   "outputs": [],
   "source": []
  },
  {
   "cell_type": "code",
   "execution_count": null,
   "id": "6039a976",
   "metadata": {},
   "outputs": [],
   "source": []
  },
  {
   "cell_type": "code",
   "execution_count": null,
   "id": "a7c72826",
   "metadata": {},
   "outputs": [],
   "source": []
  }
 ],
 "metadata": {
  "kernelspec": {
   "display_name": "Python 3 (ipykernel)",
   "language": "python",
   "name": "python3"
  },
  "language_info": {
   "codemirror_mode": {
    "name": "ipython",
    "version": 3
   },
   "file_extension": ".py",
   "mimetype": "text/x-python",
   "name": "python",
   "nbconvert_exporter": "python",
   "pygments_lexer": "ipython3",
   "version": "3.9.1"
  }
 },
 "nbformat": 4,
 "nbformat_minor": 5
}
