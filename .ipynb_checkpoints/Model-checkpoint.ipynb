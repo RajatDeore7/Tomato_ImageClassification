{
 "cells": [
  {
   "cell_type": "code",
   "execution_count": 1,
   "metadata": {
    "_cell_guid": "b1076dfc-b9ad-4769-8c92-a6c4dae69d19",
    "_uuid": "8f2839f25d086af736a60e9eeb907d3b93b6e0e5",
    "execution": {
     "iopub.execute_input": "2022-07-22T11:26:33.732406Z",
     "iopub.status.busy": "2022-07-22T11:26:33.731550Z",
     "iopub.status.idle": "2022-07-22T11:26:33.734267Z",
     "shell.execute_reply": "2022-07-22T11:26:33.734720Z",
     "shell.execute_reply.started": "2021-09-09T14:34:56.64621Z"
    },
    "papermill": {
     "duration": 0.038232,
     "end_time": "2022-07-22T11:26:33.734866",
     "exception": false,
     "start_time": "2022-07-22T11:26:33.696634",
     "status": "completed"
    },
    "tags": []
   },
   "outputs": [],
   "source": [
    "import numpy as np \n",
    "import pandas as pd \n",
    "import os\n",
    "from glob import glob\n",
    "import matplotlib.pyplot as plt\n",
    "\n",
    "from tensorflow.keras.layers import Input, Lambda, Dense, Flatten\n",
    "from tensorflow.keras.models import Model\n",
    "# from tensorflow.keras.applications.inception_v3 import InceptionV3\n",
    "from tensorflow.keras.preprocessing import image\n",
    "from tensorflow.keras.preprocessing.image import ImageDataGenerator\n",
    "from tensorflow.keras.models import Sequential\n",
    "\n",
    "# from tensorflow.keras.applications.vgg16 import VGG16\n",
    "from tensorflow.keras.applications.vgg19 import VGG19"
   ]
  },
  {
   "cell_type": "code",
   "execution_count": 2,
   "metadata": {
    "execution": {
     "iopub.execute_input": "2022-07-22T11:26:34.007909Z",
     "iopub.status.busy": "2022-07-22T11:26:34.007311Z",
     "iopub.status.idle": "2022-07-22T11:26:34.017751Z",
     "shell.execute_reply": "2022-07-22T11:26:34.017233Z",
     "shell.execute_reply.started": "2021-09-09T14:35:00.803965Z"
    },
    "papermill": {
     "duration": 0.04604,
     "end_time": "2022-07-22T11:26:34.017835",
     "exception": false,
     "start_time": "2022-07-22T11:26:33.971795",
     "status": "completed"
    },
    "tags": []
   },
   "outputs": [],
   "source": [
    "train_path = os.listdir(\"C:/Users/Rajat/Downloads/Tomato/Tomato/Plant_Diseases_Dataset/train_1\")\n",
    "test_path = os.listdir(\"C:/Users/Rajat/Downloads/Tomato/Tomato/Plant_Diseases_Dataset/test_1\")"
   ]
  },
  {
   "cell_type": "code",
   "execution_count": 3,
   "metadata": {},
   "outputs": [
    {
     "name": "stdout",
     "output_type": "stream",
     "text": [
      "10\n"
     ]
    }
   ],
   "source": [
    "print(len(train_path))"
   ]
  },
  {
   "cell_type": "code",
   "execution_count": 4,
   "metadata": {
    "execution": {
     "iopub.execute_input": "2022-07-22T11:26:40.276869Z",
     "iopub.status.busy": "2022-07-22T11:26:40.276028Z",
     "iopub.status.idle": "2022-07-22T11:26:40.278563Z",
     "shell.execute_reply": "2022-07-22T11:26:40.278133Z",
     "shell.execute_reply.started": "2021-09-09T14:35:13.008023Z"
    },
    "papermill": {
     "duration": 0.045434,
     "end_time": "2022-07-22T11:26:40.278666",
     "exception": false,
     "start_time": "2022-07-22T11:26:40.233232",
     "status": "completed"
    },
    "tags": []
   },
   "outputs": [],
   "source": [
    "SIZE = [128, 128]"
   ]
  },
  {
   "cell_type": "code",
   "execution_count": 5,
   "metadata": {
    "execution": {
     "iopub.execute_input": "2022-07-22T11:26:40.603382Z",
     "iopub.status.busy": "2022-07-22T11:26:40.602475Z",
     "iopub.status.idle": "2022-07-22T11:26:43.597835Z",
     "shell.execute_reply": "2022-07-22T11:26:43.600300Z",
     "shell.execute_reply.started": "2021-09-09T14:35:19.257322Z"
    },
    "papermill": {
     "duration": 3.042531,
     "end_time": "2022-07-22T11:26:43.600465",
     "exception": false,
     "start_time": "2022-07-22T11:26:40.557934",
     "status": "completed"
    },
    "tags": []
   },
   "outputs": [],
   "source": [
    "vgg19 = VGG19(input_shape=SIZE + [3], weights=\"imagenet\", include_top=False)"
   ]
  },
  {
   "cell_type": "code",
   "execution_count": 6,
   "metadata": {
    "execution": {
     "iopub.execute_input": "2022-07-22T11:26:43.718899Z",
     "iopub.status.busy": "2022-07-22T11:26:43.717253Z",
     "iopub.status.idle": "2022-07-22T11:26:43.719478Z",
     "shell.execute_reply": "2022-07-22T11:26:43.719909Z",
     "shell.execute_reply.started": "2021-09-09T14:35:22.38949Z"
    },
    "papermill": {
     "duration": 0.050653,
     "end_time": "2022-07-22T11:26:43.720027",
     "exception": false,
     "start_time": "2022-07-22T11:26:43.669374",
     "status": "completed"
    },
    "tags": []
   },
   "outputs": [],
   "source": [
    "for layer in vgg19.layers:\n",
    "    layer.trainable = False"
   ]
  },
  {
   "cell_type": "code",
   "execution_count": 7,
   "metadata": {
    "execution": {
     "iopub.execute_input": "2022-07-22T11:26:43.810408Z",
     "iopub.status.busy": "2022-07-22T11:26:43.809691Z",
     "iopub.status.idle": "2022-07-22T11:26:43.815256Z",
     "shell.execute_reply": "2022-07-22T11:26:43.814759Z",
     "shell.execute_reply.started": "2021-09-09T14:35:22.399782Z"
    },
    "papermill": {
     "duration": 0.052915,
     "end_time": "2022-07-22T11:26:43.815356",
     "exception": false,
     "start_time": "2022-07-22T11:26:43.762441",
     "status": "completed"
    },
    "tags": []
   },
   "outputs": [],
   "source": [
    "x = Flatten()(vgg19.output)"
   ]
  },
  {
   "cell_type": "code",
   "execution_count": 8,
   "metadata": {
    "execution": {
     "iopub.execute_input": "2022-07-22T11:26:43.907310Z",
     "iopub.status.busy": "2022-07-22T11:26:43.906445Z",
     "iopub.status.idle": "2022-07-22T11:26:43.923103Z",
     "shell.execute_reply": "2022-07-22T11:26:43.922472Z",
     "shell.execute_reply.started": "2021-09-09T14:35:22.662258Z"
    },
    "papermill": {
     "duration": 0.065137,
     "end_time": "2022-07-22T11:26:43.923205",
     "exception": false,
     "start_time": "2022-07-22T11:26:43.858068",
     "status": "completed"
    },
    "tags": []
   },
   "outputs": [],
   "source": [
    "prediction = Dense(len(train_path), activation=\"softmax\")(x)\n",
    "\n",
    "model = Model(inputs=vgg19.input, outputs=prediction)"
   ]
  },
  {
   "cell_type": "code",
   "execution_count": 9,
   "metadata": {
    "execution": {
     "iopub.execute_input": "2022-07-22T11:26:44.104757Z",
     "iopub.status.busy": "2022-07-22T11:26:44.098333Z",
     "iopub.status.idle": "2022-07-22T11:26:44.107394Z",
     "shell.execute_reply": "2022-07-22T11:26:44.109296Z",
     "shell.execute_reply.started": "2021-09-09T14:35:35.451888Z"
    },
    "papermill": {
     "duration": 0.058448,
     "end_time": "2022-07-22T11:26:44.109465",
     "exception": false,
     "start_time": "2022-07-22T11:26:44.051017",
     "status": "completed"
    },
    "tags": []
   },
   "outputs": [
    {
     "name": "stdout",
     "output_type": "stream",
     "text": [
      "Model: \"model\"\n",
      "_________________________________________________________________\n",
      " Layer (type)                Output Shape              Param #   \n",
      "=================================================================\n",
      " input_1 (InputLayer)        [(None, 128, 128, 3)]     0         \n",
      "                                                                 \n",
      " block1_conv1 (Conv2D)       (None, 128, 128, 64)      1792      \n",
      "                                                                 \n",
      " block1_conv2 (Conv2D)       (None, 128, 128, 64)      36928     \n",
      "                                                                 \n",
      " block1_pool (MaxPooling2D)  (None, 64, 64, 64)        0         \n",
      "                                                                 \n",
      " block2_conv1 (Conv2D)       (None, 64, 64, 128)       73856     \n",
      "                                                                 \n",
      " block2_conv2 (Conv2D)       (None, 64, 64, 128)       147584    \n",
      "                                                                 \n",
      " block2_pool (MaxPooling2D)  (None, 32, 32, 128)       0         \n",
      "                                                                 \n",
      " block3_conv1 (Conv2D)       (None, 32, 32, 256)       295168    \n",
      "                                                                 \n",
      " block3_conv2 (Conv2D)       (None, 32, 32, 256)       590080    \n",
      "                                                                 \n",
      " block3_conv3 (Conv2D)       (None, 32, 32, 256)       590080    \n",
      "                                                                 \n",
      " block3_conv4 (Conv2D)       (None, 32, 32, 256)       590080    \n",
      "                                                                 \n",
      " block3_pool (MaxPooling2D)  (None, 16, 16, 256)       0         \n",
      "                                                                 \n",
      " block4_conv1 (Conv2D)       (None, 16, 16, 512)       1180160   \n",
      "                                                                 \n",
      " block4_conv2 (Conv2D)       (None, 16, 16, 512)       2359808   \n",
      "                                                                 \n",
      " block4_conv3 (Conv2D)       (None, 16, 16, 512)       2359808   \n",
      "                                                                 \n",
      " block4_conv4 (Conv2D)       (None, 16, 16, 512)       2359808   \n",
      "                                                                 \n",
      " block4_pool (MaxPooling2D)  (None, 8, 8, 512)         0         \n",
      "                                                                 \n",
      " block5_conv1 (Conv2D)       (None, 8, 8, 512)         2359808   \n",
      "                                                                 \n",
      " block5_conv2 (Conv2D)       (None, 8, 8, 512)         2359808   \n",
      "                                                                 \n",
      " block5_conv3 (Conv2D)       (None, 8, 8, 512)         2359808   \n",
      "                                                                 \n",
      " block5_conv4 (Conv2D)       (None, 8, 8, 512)         2359808   \n",
      "                                                                 \n",
      " block5_pool (MaxPooling2D)  (None, 4, 4, 512)         0         \n",
      "                                                                 \n",
      " flatten (Flatten)           (None, 8192)              0         \n",
      "                                                                 \n",
      " dense (Dense)               (None, 10)                81930     \n",
      "                                                                 \n",
      "=================================================================\n",
      "Total params: 20,106,314\n",
      "Trainable params: 81,930\n",
      "Non-trainable params: 20,024,384\n",
      "_________________________________________________________________\n"
     ]
    }
   ],
   "source": [
    "model.summary()"
   ]
  },
  {
   "cell_type": "code",
   "execution_count": 10,
   "metadata": {
    "execution": {
     "iopub.execute_input": "2022-07-22T11:26:44.292692Z",
     "iopub.status.busy": "2022-07-22T11:26:44.291102Z",
     "iopub.status.idle": "2022-07-22T11:26:44.297880Z",
     "shell.execute_reply": "2022-07-22T11:26:44.297293Z",
     "shell.execute_reply.started": "2021-09-09T14:35:37.575418Z"
    },
    "papermill": {
     "duration": 0.059846,
     "end_time": "2022-07-22T11:26:44.298043",
     "exception": false,
     "start_time": "2022-07-22T11:26:44.238197",
     "status": "completed"
    },
    "tags": []
   },
   "outputs": [],
   "source": [
    "model.compile(loss=\"categorical_crossentropy\", metrics=[\"accuracy\"], optimizer=\"adam\")"
   ]
  },
  {
   "cell_type": "code",
   "execution_count": 11,
   "metadata": {
    "execution": {
     "iopub.execute_input": "2022-07-22T11:26:44.475166Z",
     "iopub.status.busy": "2022-07-22T11:26:44.474497Z",
     "iopub.status.idle": "2022-07-22T11:26:44.478522Z",
     "shell.execute_reply": "2022-07-22T11:26:44.477698Z",
     "shell.execute_reply.started": "2021-09-09T14:37:22.896817Z"
    },
    "papermill": {
     "duration": 0.050902,
     "end_time": "2022-07-22T11:26:44.478625",
     "exception": false,
     "start_time": "2022-07-22T11:26:44.427723",
     "status": "completed"
    },
    "tags": []
   },
   "outputs": [],
   "source": [
    "train_datagen = ImageDataGenerator(rescale=1./255)\n",
    "\n",
    "test_datagen = ImageDataGenerator(rescale=1./255)"
   ]
  },
  {
   "cell_type": "code",
   "execution_count": 12,
   "metadata": {
    "execution": {
     "iopub.execute_input": "2022-07-22T11:26:44.568220Z",
     "iopub.status.busy": "2022-07-22T11:26:44.567575Z",
     "iopub.status.idle": "2022-07-22T11:26:53.191465Z",
     "shell.execute_reply": "2022-07-22T11:26:53.191013Z",
     "shell.execute_reply.started": "2021-09-09T14:37:33.932421Z"
    },
    "papermill": {
     "duration": 8.671183,
     "end_time": "2022-07-22T11:26:53.191574",
     "exception": false,
     "start_time": "2022-07-22T11:26:44.520391",
     "status": "completed"
    },
    "tags": []
   },
   "outputs": [
    {
     "name": "stdout",
     "output_type": "stream",
     "text": [
      "Found 18345 images belonging to 10 classes.\n"
     ]
    }
   ],
   "source": [
    "trainset = train_datagen.flow_from_directory(\"C:/Users/Rajat/Downloads/Tomato/Tomato/Plant_Diseases_Dataset/train_1\",\n",
    "                                                 target_size=(128, 128),\n",
    "                                                 batch_size=16,\n",
    "                                                 class_mode=\"categorical\", shuffle=True)"
   ]
  },
  {
   "cell_type": "code",
   "execution_count": 13,
   "metadata": {
    "execution": {
     "iopub.execute_input": "2022-07-22T11:26:53.293277Z",
     "iopub.status.busy": "2022-07-22T11:26:53.292384Z",
     "iopub.status.idle": "2022-07-22T11:26:54.220692Z",
     "shell.execute_reply": "2022-07-22T11:26:54.219604Z",
     "shell.execute_reply.started": "2021-09-09T14:37:42.265918Z"
    },
    "papermill": {
     "duration": 0.980998,
     "end_time": "2022-07-22T11:26:54.220829",
     "exception": false,
     "start_time": "2022-07-22T11:26:53.239831",
     "status": "completed"
    },
    "tags": []
   },
   "outputs": [
    {
     "name": "stdout",
     "output_type": "stream",
     "text": [
      "Found 4585 images belonging to 10 classes.\n"
     ]
    }
   ],
   "source": [
    "testset = test_datagen.flow_from_directory(\"C:/Users/Rajat/Downloads/Tomato/Tomato/Plant_Diseases_Dataset/test_1\",\n",
    "                                                 target_size=(128, 128),\n",
    "                                                 batch_size=16,\n",
    "                                                 class_mode=\"categorical\", shuffle=False)"
   ]
  },
  {
   "cell_type": "code",
   "execution_count": 14,
   "metadata": {
    "execution": {
     "iopub.execute_input": "2022-07-22T11:26:54.406437Z",
     "iopub.status.busy": "2022-07-22T11:26:54.405618Z",
     "iopub.status.idle": "2022-07-22T11:34:45.299436Z",
     "shell.execute_reply": "2022-07-22T11:34:45.298787Z",
     "shell.execute_reply.started": "2021-09-09T14:39:40.952547Z"
    },
    "papermill": {
     "duration": 470.944116,
     "end_time": "2022-07-22T11:34:45.299555",
     "exception": false,
     "start_time": "2022-07-22T11:26:54.355439",
     "status": "completed"
    },
    "tags": []
   },
   "outputs": [
    {
     "name": "stdout",
     "output_type": "stream",
     "text": [
      "Epoch 1/50\n",
      "1147/1147 [==============================] - 1483s 1s/step - loss: 0.7532 - accuracy: 0.7470 - val_loss: 0.5731 - val_accuracy: 0.8072\n",
      "Epoch 2/50\n",
      "1147/1147 [==============================] - 1463s 1s/step - loss: 0.4339 - accuracy: 0.8513 - val_loss: 0.4484 - val_accuracy: 0.8458\n",
      "Epoch 3/50\n",
      "1147/1147 [==============================] - 1509s 1s/step - loss: 0.3478 - accuracy: 0.8800 - val_loss: 0.4547 - val_accuracy: 0.8445\n",
      "Epoch 4/50\n",
      "1147/1147 [==============================] - 1465s 1s/step - loss: 0.2791 - accuracy: 0.9036 - val_loss: 0.4847 - val_accuracy: 0.8432\n",
      "Epoch 5/50\n",
      "1147/1147 [==============================] - 1906s 2s/step - loss: 0.2315 - accuracy: 0.9233 - val_loss: 0.3741 - val_accuracy: 0.8728\n",
      "Epoch 6/50\n",
      "1147/1147 [==============================] - 2046s 2s/step - loss: 0.2016 - accuracy: 0.9319 - val_loss: 0.4193 - val_accuracy: 0.8641\n",
      "Epoch 7/50\n",
      "1147/1147 [==============================] - 1742s 2s/step - loss: 0.1669 - accuracy: 0.9445 - val_loss: 0.4595 - val_accuracy: 0.8489\n",
      "Epoch 8/50\n",
      "1147/1147 [==============================] - 2512s 2s/step - loss: 0.1479 - accuracy: 0.9509 - val_loss: 0.3996 - val_accuracy: 0.8704\n"
     ]
    },
    {
     "data": {
      "text/plain": [
       "<keras.callbacks.History at 0x23b411d07f0>"
      ]
     },
     "execution_count": 14,
     "metadata": {},
     "output_type": "execute_result"
    }
   ],
   "source": [
    "import tensorflow as tf\n",
    "\n",
    "callback = tf.keras.callbacks.EarlyStopping(monitor='val_loss', patience=3)\n",
    "\n",
    "model.fit(trainset,\n",
    "            validation_data=testset,\n",
    "            epochs=50,\n",
    "            callbacks=[callback]\n",
    "            )"
   ]
  },
  {
   "cell_type": "code",
   "execution_count": 15,
   "metadata": {
    "execution": {
     "iopub.execute_input": "2022-07-22T11:34:55.647214Z",
     "iopub.status.busy": "2022-07-22T11:34:55.646578Z",
     "iopub.status.idle": "2022-07-22T11:35:05.054481Z",
     "shell.execute_reply": "2022-07-22T11:35:05.055073Z",
     "shell.execute_reply.started": "2021-09-09T14:56:24.861669Z"
    },
    "papermill": {
     "duration": 11.242949,
     "end_time": "2022-07-22T11:35:05.055255",
     "exception": false,
     "start_time": "2022-07-22T11:34:53.812306",
     "status": "completed"
    },
    "tags": []
   },
   "outputs": [
    {
     "name": "stdout",
     "output_type": "stream",
     "text": [
      "287/287 [==============================] - 552s 2s/step\n"
     ]
    },
    {
     "data": {
      "text/plain": [
       "array([0, 0, 0, ..., 9, 9, 9], dtype=int64)"
      ]
     },
     "execution_count": 15,
     "metadata": {},
     "output_type": "execute_result"
    }
   ],
   "source": [
    "y_pred = model.predict(testset)\n",
    "y_pred = np.argmax(y_pred, axis=1)\n",
    "y_pred"
   ]
  },
  {
   "cell_type": "code",
   "execution_count": 16,
   "metadata": {
    "execution": {
     "iopub.execute_input": "2022-07-22T11:35:31.626408Z",
     "iopub.status.busy": "2022-07-22T11:35:31.625558Z",
     "iopub.status.idle": "2022-07-22T11:35:34.637477Z",
     "shell.execute_reply": "2022-07-22T11:35:34.636907Z",
     "shell.execute_reply.started": "2021-09-09T14:57:46.072425Z"
    },
    "papermill": {
     "duration": 4.600702,
     "end_time": "2022-07-22T11:35:34.637580",
     "exception": false,
     "start_time": "2022-07-22T11:35:30.036878",
     "status": "completed"
    },
    "tags": []
   },
   "outputs": [
    {
     "name": "stderr",
     "output_type": "stream",
     "text": [
      "WARNING:absl:Found untraced functions such as _jit_compiled_convolution_op, _jit_compiled_convolution_op, _jit_compiled_convolution_op, _jit_compiled_convolution_op, _jit_compiled_convolution_op while saving (showing 5 of 17). These functions will not be directly callable after loading.\n"
     ]
    },
    {
     "name": "stdout",
     "output_type": "stream",
     "text": [
      "INFO:tensorflow:Assets written to: vgg19_model.model\\assets\n"
     ]
    },
    {
     "name": "stderr",
     "output_type": "stream",
     "text": [
      "INFO:tensorflow:Assets written to: vgg19_model.model\\assets\n"
     ]
    }
   ],
   "source": [
    "model.save(\"vgg19_model.model\")"
   ]
  },
  {
   "cell_type": "code",
   "execution_count": 17,
   "metadata": {
    "execution": {
     "iopub.execute_input": "2022-07-22T11:35:41.296414Z",
     "iopub.status.busy": "2022-07-22T11:35:41.295579Z",
     "iopub.status.idle": "2022-07-22T11:35:42.596912Z",
     "shell.execute_reply": "2022-07-22T11:35:42.596367Z",
     "shell.execute_reply.started": "2021-09-09T14:57:48.651164Z"
    },
    "papermill": {
     "duration": 2.881464,
     "end_time": "2022-07-22T11:35:42.597066",
     "exception": false,
     "start_time": "2022-07-22T11:35:39.715602",
     "status": "completed"
    },
    "tags": []
   },
   "outputs": [],
   "source": [
    "import cv2\n",
    "import tensorflow as tf\n",
    "def prepare_image(filepath):\n",
    "    img_array = cv2.imread(filepath, cv2.IMREAD_COLOR)\n",
    "    img_array = img_array / 255\n",
    "    new_array = cv2.resize(img_array, (128, 128))\n",
    "    return new_array.reshape(-1, 128, 128, 3)\n",
    "\n",
    "model = tf.keras.models.load_model(\"vgg19_model.model\")"
   ]
  },
  {
   "cell_type": "code",
   "execution_count": 18,
   "metadata": {
    "execution": {
     "iopub.execute_input": "2022-07-22T11:35:52.435657Z",
     "iopub.status.busy": "2022-07-22T11:35:52.434611Z",
     "iopub.status.idle": "2022-07-22T11:35:52.440673Z",
     "shell.execute_reply": "2022-07-22T11:35:52.441218Z",
     "shell.execute_reply.started": "2021-09-09T14:57:51.841691Z"
    },
    "papermill": {
     "duration": 1.632619,
     "end_time": "2022-07-22T11:35:52.441421",
     "exception": false,
     "start_time": "2022-07-22T11:35:50.808802",
     "status": "completed"
    },
    "tags": []
   },
   "outputs": [
    {
     "data": {
      "text/plain": [
       "{'Tomato___Bacterial_spot': 0,\n",
       " 'Tomato___Early_blight': 1,\n",
       " 'Tomato___Late_blight': 2,\n",
       " 'Tomato___Leaf_Mold': 3,\n",
       " 'Tomato___Septoria_leaf_spot': 4,\n",
       " 'Tomato___Spider_mites Two-spotted_spider_mite': 5,\n",
       " 'Tomato___Target_Spot': 6,\n",
       " 'Tomato___Tomato_Yellow_Leaf_Curl_Virus': 7,\n",
       " 'Tomato___Tomato_mosaic_virus': 8,\n",
       " 'Tomato___healthy': 9}"
      ]
     },
     "execution_count": 18,
     "metadata": {},
     "output_type": "execute_result"
    }
   ],
   "source": [
    "class_dict = trainset.class_indices\n",
    "class_dict"
   ]
  },
  {
   "cell_type": "code",
   "execution_count": 19,
   "metadata": {
    "execution": {
     "iopub.execute_input": "2022-07-22T11:35:58.776970Z",
     "iopub.status.busy": "2022-07-22T11:35:58.775965Z",
     "iopub.status.idle": "2022-07-22T11:35:58.778623Z",
     "shell.execute_reply": "2022-07-22T11:35:58.778025Z",
     "shell.execute_reply.started": "2021-09-09T14:57:54.218005Z"
    },
    "papermill": {
     "duration": 1.608816,
     "end_time": "2022-07-22T11:35:58.778748",
     "exception": false,
     "start_time": "2022-07-22T11:35:57.169932",
     "status": "completed"
    },
    "tags": []
   },
   "outputs": [],
   "source": [
    "def prediction_cls(prediction):\n",
    "    for key, clss in class_dict.items():\n",
    "        if np.argmax(prediction) == clss:\n",
    "            label = key.split(\"___\")[1]\n",
    "            label = label.replace('_',\" \")\n",
    "            return label"
   ]
  },
  {
   "cell_type": "code",
   "execution_count": 23,
   "metadata": {
    "execution": {
     "iopub.execute_input": "2022-07-22T11:36:02.230477Z",
     "iopub.status.busy": "2022-07-22T11:36:02.229645Z",
     "iopub.status.idle": "2022-07-22T11:36:02.572228Z",
     "shell.execute_reply": "2022-07-22T11:36:02.571595Z",
     "shell.execute_reply.started": "2021-09-09T14:58:06.778958Z"
    },
    "papermill": {
     "duration": 1.961585,
     "end_time": "2022-07-22T11:36:02.572359",
     "exception": false,
     "start_time": "2022-07-22T11:36:00.610774",
     "status": "completed"
    },
    "tags": []
   },
   "outputs": [
    {
     "name": "stdout",
     "output_type": "stream",
     "text": [
      "1/1 [==============================] - 0s 235ms/step\n"
     ]
    },
    {
     "data": {
      "text/plain": [
       "'Septoria leaf spot'"
      ]
     },
     "execution_count": 23,
     "metadata": {},
     "output_type": "execute_result"
    }
   ],
   "source": [
    "prediction = model.predict([prepare_image(\"C:/Users/Rajat/Desktop/fff3aeaf-d4ae-4f3a-86d9-79237d07270f___Com.G_SpM_FL 9349.JPG\")])\n",
    "prediction_cls(prediction)"
   ]
  },
  {
   "cell_type": "code",
   "execution_count": null,
   "metadata": {
    "papermill": {
     "duration": 1.740108,
     "end_time": "2022-07-22T11:36:13.073608",
     "exception": false,
     "start_time": "2022-07-22T11:36:11.333500",
     "status": "completed"
    },
    "tags": []
   },
   "outputs": [],
   "source": []
  }
 ],
 "metadata": {
  "kernelspec": {
   "display_name": "Python 3 (ipykernel)",
   "language": "python",
   "name": "python3"
  },
  "language_info": {
   "codemirror_mode": {
    "name": "ipython",
    "version": 3
   },
   "file_extension": ".py",
   "mimetype": "text/x-python",
   "name": "python",
   "nbconvert_exporter": "python",
   "pygments_lexer": "ipython3",
   "version": "3.9.1"
  },
  "papermill": {
   "duration": 584.999151,
   "end_time": "2022-07-22T11:36:14.900215",
   "environment_variables": {},
   "exception": null,
   "input_path": "__notebook__.ipynb",
   "output_path": "__notebook__.ipynb",
   "parameters": {},
   "start_time": "2022-07-22T11:26:29.901064",
   "version": "2.1.0"
  },
  "vscode": {
   "interpreter": {
    "hash": "d9301f351715a867d1bc8fb08501c60e58ca81704bf7ff03478c999d7c5e9338"
   }
  }
 },
 "nbformat": 4,
 "nbformat_minor": 4
}
